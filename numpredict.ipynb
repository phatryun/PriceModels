{
 "metadata": {
  "name": "",
  "signature": "sha256:d7e3eb49fffa1769fe04417401db51b6075bc47fbfd92cae622e49156b1ec1d7"
 },
 "nbformat": 3,
 "nbformat_minor": 0,
 "worksheets": [
  {
   "cells": [
    {
     "cell_type": "heading",
     "level": 1,
     "metadata": {},
     "source": [
      "Chapitre 8 : Building Price Models"
     ]
    },
    {
     "cell_type": "markdown",
     "metadata": {},
     "source": [
      "Bayesian classifiers, decision trees, and support-vector machines are not the best algorithms for making predictions about numerical data based on\n",
      "many different attributes, such as prices.\n",
      "This Notebook will look at algorithms that can be trained to make numerical predictions, and even display probability distributions for the predictions to help the user interpret how the prediction is being made.\n",
      "\n",
      "We\u2019ll be looking at how to use these algorithms for building models that predict prices. Economists consider prices, to be a good method of using collective intelligence to determine the real value of something; in a large market with many buyers and sellers, the price will usually reach the optimal value for both sides of the transaction. Price prediction is also a good test for algorithms, since there are usually many different factors to consider when determining a price.\n",
      "\n",
      "An important part of making numerical predictions is determining which variables are important and in what combinations.\n",
      "\n"
     ]
    },
    {
     "cell_type": "heading",
     "level": 2,
     "metadata": {},
     "source": [
      "Building a Sample Dataset"
     ]
    },
    {
     "cell_type": "code",
     "collapsed": false,
     "input": [
      "from random import random,randint\n",
      "import math\n",
      "\n",
      "def wineprice(rating,age):\n",
      "    peak_age = rating-50\n",
      "    \n",
      "    #calculate price based on rating\n",
      "    price=rating/2\n",
      "    if age>peak_age:\n",
      "        #Past its peak, goes bad in 5 years\n",
      "        price = price*(5-(age-peak_age))\n",
      "    else:\n",
      "        # Increases to 5x original value as it\n",
      "        # approaches its peak\n",
      "        price=price*(5*((age+1)/peak_age))\n",
      "    if price<0: \n",
      "        price=0\n",
      "    return price\n"
     ],
     "language": "python",
     "metadata": {},
     "outputs": [],
     "prompt_number": 1
    },
    {
     "cell_type": "code",
     "collapsed": false,
     "input": [
      "def wineset1( ):\n",
      "    rows=[]\n",
      "    for i in range(300):\n",
      "        # Create a random age and rating\n",
      "        rating=random( )*50+50\n",
      "        age=random( )*50\n",
      "        # Get reference price\n",
      "        price=wineprice(rating,age)\n",
      "        # Add some noise\n",
      "        price*=(random( )*0.4+0.8)\n",
      "        # Add to the dataset\n",
      "        rows.append({'input':(rating,age),\n",
      "                     'result':price})\n",
      "    return rows\n"
     ],
     "language": "python",
     "metadata": {},
     "outputs": [],
     "prompt_number": 2
    },
    {
     "cell_type": "code",
     "collapsed": false,
     "input": [
      "print \"95.0 & 3.0 :\",wineprice(95.0,3.0)\n",
      "print \"95.0 & 8.0 :\",wineprice(95.0,8.0)\n",
      "print \"99.0 & 1 :\",wineprice(99.0,1.0)\n",
      "data = wineset1()\n",
      "print data[0]\n",
      "print data[1]"
     ],
     "language": "python",
     "metadata": {},
     "outputs": [
      {
       "output_type": "stream",
       "stream": "stdout",
       "text": [
        "95.0 & 3.0 : 21.1111111111\n",
        "95.0 & 8.0 : 47.5\n",
        "99.0 & 1 : 10.1020408163\n",
        "{'input': (62.93123181086201, 1.5374658287423626), 'result': 25.32882392801877}\n",
        "{'input': (64.27783368853635, 34.02295027013268), 'result': 0.0}\n"
       ]
      }
     ],
     "prompt_number": 3
    },
    {
     "cell_type": "heading",
     "level": 2,
     "metadata": {},
     "source": [
      "K-Nearest Neighbors"
     ]
    },
    {
     "cell_type": "code",
     "collapsed": false,
     "input": [
      "def euclidean(v1,v2):\n",
      "    d=0.0\n",
      "    for i in range(len(v1)):\n",
      "        d+=(v1[i]-v2[i])**2\n",
      "    return math.sqrt(d)\n"
     ],
     "language": "python",
     "metadata": {},
     "outputs": [],
     "prompt_number": 4
    },
    {
     "cell_type": "code",
     "collapsed": false,
     "input": [
      "print data[0]['input']\n",
      "print data[1]['input']\n",
      "print euclidean(data[0]['input'],data[1]['input'])"
     ],
     "language": "python",
     "metadata": {},
     "outputs": [
      {
       "output_type": "stream",
       "stream": "stdout",
       "text": [
        "(62.93123181086201, 1.5374658287423626)\n",
        "(64.27783368853635, 34.02295027013268)\n",
        "32.5133824142\n"
       ]
      }
     ],
     "prompt_number": 5
    },
    {
     "cell_type": "code",
     "collapsed": false,
     "input": [
      "def getdistances(data,vec1):\n",
      "    distancelist=[]\n",
      "    for i in range(len(data)):\n",
      "        vec2=data[i]['input']\n",
      "        distancelist.append((euclidean(vec1,vec2),i))\n",
      "    distancelist.sort( )\n",
      "    return distancelist\n",
      "\n",
      "def knnestimate(data,vec1,k=3):\n",
      "    # Get sorted distances\n",
      "    dlist=getdistances(data,vec1)\n",
      "    avg=0.0\n",
      "    \n",
      "    #Take the average of the top k results\n",
      "    for i in range(k):\n",
      "        idx=dlist[i][1]\n",
      "        avg+=data[idx]['result']\n",
      "    avg=avg/k\n",
      "    return avg\n",
      "\n"
     ],
     "language": "python",
     "metadata": {},
     "outputs": [],
     "prompt_number": 6
    },
    {
     "cell_type": "code",
     "collapsed": false,
     "input": [
      "print \"Estimate price (k=3) for 95.0 & 3.0 :\", knnestimate(data,(95.0,3.0))\n",
      "print \"Estimate price (k=3) for 99.0 & 3.0 :\", knnestimate(data,(99.0,3.0))\n",
      "print \"Estimate price (k=3) for 99.0 & 5.0 :\", knnestimate(data,(99.0,5.0))\n",
      "print \"Calculate price for 99.0 & 5.0 :\", wineprice(99.0,5.0)\n",
      "print \"Estimate price (k=1) for 99.0 & 5.0 :\", knnestimate(data,(99.0,5.0),k=1)\n",
      "print \"Estimate price (k=2) for 99.0 & 5.0 :\", knnestimate(data,(99.0,5.0),k=2)\n",
      "print \"Estimate price (k=5) for 99.0 & 5.0 :\", knnestimate(data,(99.0,5.0),k=5)"
     ],
     "language": "python",
     "metadata": {},
     "outputs": [
      {
       "output_type": "stream",
       "stream": "stdout",
       "text": [
        "Estimate price (k=3) for 95.0 & 3.0 : 36.669478435\n",
        "Estimate price (k=3) for 99.0 & 3.0 : 36.669478435\n",
        "Estimate price (k=3) for 99.0 & 5.0 : 38.6144434369\n",
        "Calculate price for 99.0 & 5.0 : 30.306122449\n",
        "Estimate price (k=1) for 99.0 & 5.0 : 30.8375576067\n",
        "Estimate price (k=2) for 99.0 & 5.0 : 32.3867907683\n",
        "Estimate price (k=5) for 99.0 & 5.0 : 43.2507933269\n"
       ]
      }
     ],
     "prompt_number": 7
    },
    {
     "cell_type": "heading",
     "level": 2,
     "metadata": {},
     "source": [
      "Weighted Neighbors"
     ]
    },
    {
     "cell_type": "code",
     "collapsed": false,
     "input": [
      "#Inverse function\n",
      "def inverseweight(dist,num=1.0,const=0.1):\n",
      "    return num/(dist+const)\n",
      "\n",
      "#Subtraction Function\n",
      "def subtractweight(dist,const=1.0):\n",
      "    if dist>const:\n",
      "        return 0\n",
      "    else:\n",
      "        return const-dist\n",
      "\n",
      "#Gaussian Function\n",
      "def gaussian(dist,sigma=10.0):\n",
      "    return math.e**(-dist**2/(2*sigma**2))\n"
     ],
     "language": "python",
     "metadata": {},
     "outputs": [],
     "prompt_number": 8
    },
    {
     "cell_type": "code",
     "collapsed": false,
     "input": [
      "print \"Sub 0.1 : \",subtractweight(0.1)\n",
      "print \"Inv 0.1 : \",inverseweight(0.1)\n",
      "print \"Gau 0.1 : \",gaussian(0.1)\n",
      "print \"Gau 1.0 : \",gaussian(1.0)\n",
      "print \"Sub 1.0 : \",subtractweight(1.0)\n",
      "print \"Inv 1.0 : \",inverseweight(1.0)\n",
      "print \"Gau 3.0 : \",gaussian(3.0)\n"
     ],
     "language": "python",
     "metadata": {},
     "outputs": [
      {
       "output_type": "stream",
       "stream": "stdout",
       "text": [
        "Sub 0.1 :  0.9\n",
        "Inv 0.1 :  5.0\n",
        "Gau 0.1 :  0.99995000125\n",
        "Gau 1.0 :  0.995012479193\n",
        "Sub 1.0 :  0.0\n",
        "Inv 1.0 :  0.909090909091\n",
        "Gau 3.0 :  0.955997481833\n"
       ]
      }
     ],
     "prompt_number": 9
    },
    {
     "cell_type": "code",
     "collapsed": false,
     "input": [
      "def weightedknn(data,vec1,k=5,weightf=gaussian):\n",
      "    # Get distances\n",
      "    dlist=getdistances(data,vec1)\n",
      "    avg=0.0\n",
      "    totalweight=0.0\n",
      "    # Get weighted average\n",
      "    for i in range(k):\n",
      "        dist=dlist[i][0]\n",
      "        idx=dlist[i][1]\n",
      "        weight=weightf(dist)\n",
      "        avg+=weight*data[idx]['result']\n",
      "        totalweight+=weight\n",
      "    avg=avg/totalweight\n",
      "    return avg\n"
     ],
     "language": "python",
     "metadata": {},
     "outputs": [],
     "prompt_number": 10
    },
    {
     "cell_type": "code",
     "collapsed": false,
     "input": [
      "print \"Calculate price for 99.0 & 5.0 :\", wineprice(99.0,5.0)\n",
      "print \"Estimate price (k=3) for 99.0 & 5.0 :\", knnestimate(data,(99.0,5.0))\n",
      "print \"Estimate price (wk=5, gaussian) for 99.0 & 5.0 :\",weightedknn(data,(99.0,5.0))"
     ],
     "language": "python",
     "metadata": {},
     "outputs": [
      {
       "output_type": "stream",
       "stream": "stdout",
       "text": [
        "Calculate price for 99.0 & 5.0 : 30.306122449\n",
        "Estimate price (k=3) for 99.0 & 5.0 : 38.6144434369\n",
        "Estimate price (wk=5, gaussian) for 99.0 & 5.0 : 42.7260057972\n"
       ]
      }
     ],
     "prompt_number": 11
    },
    {
     "cell_type": "heading",
     "level": 2,
     "metadata": {},
     "source": [
      "Cross-Validation"
     ]
    },
    {
     "cell_type": "code",
     "collapsed": false,
     "input": [
      "#Divide data 95% -> train and 5% -> test\n",
      "def dividedata(data,test=0.05):\n",
      "    trainset=[]\n",
      "    testset=[]\n",
      "    for row in data:\n",
      "        if random( )<test:\n",
      "            testset.append(row)\n",
      "        else:\n",
      "            trainset.append(row)\n",
      "    return trainset,testset\n",
      "\n",
      "def testalgorithm(algf,trainset,testset):\n",
      "    error=0.0\n",
      "    for row in testset:\n",
      "        guess=algf(trainset,row['input'])\n",
      "        error+=(row['result']-guess)**2\n",
      "    return error/len(testset)\n",
      "\n",
      "def crossvalidate(algf,data,trials=100,test=0.05):\n",
      "    error=0.0\n",
      "    for i in range(trials):\n",
      "        trainset,testset=dividedata(data,test)\n",
      "        error+=testalgorithm(algf,trainset,testset)\n",
      "    return error/trials\n"
     ],
     "language": "python",
     "metadata": {},
     "outputs": [],
     "prompt_number": 12
    },
    {
     "cell_type": "code",
     "collapsed": false,
     "input": [
      "print \"cross - Knn - 5 :\",crossvalidate(knnestimate,data)\n",
      "\n",
      "def knn3(d,v): \n",
      "    return knnestimate(d,v,k=3)\n",
      "\n",
      "print \"cross - Knn - 3 :\",crossvalidate(knn3,data)\n",
      "\n",
      "def knn1(d,v):\n",
      "    return knnestimate(d,v,k=1)\n",
      "\n",
      "print \"cross - Knn - 1 :\",crossvalidate(knn1,data)\n"
     ],
     "language": "python",
     "metadata": {},
     "outputs": [
      {
       "output_type": "stream",
       "stream": "stdout",
       "text": [
        "cross - Knn - 5 : "
       ]
      },
      {
       "output_type": "stream",
       "stream": "stdout",
       "text": [
        "488.237619535\n",
        "cross - Knn - 3 : "
       ]
      },
      {
       "output_type": "stream",
       "stream": "stdout",
       "text": [
        "504.632683137\n",
        "cross - Knn - 1 : "
       ]
      },
      {
       "output_type": "stream",
       "stream": "stdout",
       "text": [
        "566.07438259\n"
       ]
      }
     ],
     "prompt_number": 13
    },
    {
     "cell_type": "code",
     "collapsed": false,
     "input": [
      "print \"cross - WKnn - 5 - gaussin : \",crossvalidate(weightedknn,data)\n",
      "\n",
      "def knninverse(d,v):\n",
      "    return weightedknn(d,v,weightf=inverseweight)\n",
      "\n",
      "print \"cross - WKnn - 5 - inverse : \",crossvalidate(knninverse,data)\n",
      "\n",
      "\n"
     ],
     "language": "python",
     "metadata": {},
     "outputs": [
      {
       "output_type": "stream",
       "stream": "stdout",
       "text": [
        "cross - WKnn - 5 - gaussin :  "
       ]
      },
      {
       "output_type": "stream",
       "stream": "stdout",
       "text": [
        "495.229666761\n",
        "cross - WKnn - 5 - inverse :  "
       ]
      },
      {
       "output_type": "stream",
       "stream": "stdout",
       "text": [
        "467.971285901\n"
       ]
      }
     ],
     "prompt_number": 14
    },
    {
     "cell_type": "heading",
     "level": 2,
     "metadata": {},
     "source": [
      "Heterogeneous Variables"
     ]
    },
    {
     "cell_type": "code",
     "collapsed": false,
     "input": [
      "def wineset2( ):\n",
      "    rows=[]\n",
      "    for i in range(300):\n",
      "        rating=random( )*50+50\n",
      "        age=random( )*50\n",
      "        aisle=float(randint(1,20))\n",
      "        bottlesize=[375.0,750.0,1500.0,3000.0][randint(0,3)]\n",
      "        price=wineprice(rating,age)\n",
      "        price*=(bottlesize/750)\n",
      "        price*=(random( )*0.9+0.2)\n",
      "        rows.append({'input':(rating,age,aisle,bottlesize),\n",
      "                     'result':price})\n",
      "    return rows\n",
      "\n",
      "data2 = wineset2()"
     ],
     "language": "python",
     "metadata": {},
     "outputs": [],
     "prompt_number": 15
    },
    {
     "cell_type": "code",
     "collapsed": false,
     "input": [
      "print \"Cross - knn3 - data1 : \",crossvalidate(knn3,data)\n",
      "print \"Cross - knn3 - data2 : \",crossvalidate(knn3,data2)\n",
      "print \"Cross - Wknn - data1 : \",crossvalidate(weightedknn,data)\n",
      "print \"Cross - Wknn - data2 : \",crossvalidate(weightedknn,data2)\n",
      "\n"
     ],
     "language": "python",
     "metadata": {},
     "outputs": [
      {
       "output_type": "stream",
       "stream": "stdout",
       "text": [
        "Cross - knn3 - data1 :  "
       ]
      },
      {
       "output_type": "stream",
       "stream": "stdout",
       "text": [
        "487.981584881\n",
        "Cross - knn3 - data2 :  "
       ]
      },
      {
       "output_type": "stream",
       "stream": "stdout",
       "text": [
        "7164.961095\n",
        "Cross - Wknn - data1 :  "
       ]
      },
      {
       "output_type": "stream",
       "stream": "stdout",
       "text": [
        "493.958326624\n",
        "Cross - Wknn - data2 :  "
       ]
      },
      {
       "output_type": "stream",
       "stream": "stdout",
       "text": [
        "6452.54620526\n"
       ]
      }
     ],
     "prompt_number": 16
    },
    {
     "cell_type": "code",
     "collapsed": false,
     "input": [],
     "language": "python",
     "metadata": {},
     "outputs": []
    }
   ],
   "metadata": {}
  }
 ]
}