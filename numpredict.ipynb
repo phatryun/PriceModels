{
 "metadata": {
  "name": "",
  "signature": "sha256:48957dcda4a41b4d2c8d533da60a65de221daaefd55f7ec4a176126ff7cfbe37"
 },
 "nbformat": 3,
 "nbformat_minor": 0,
 "worksheets": [
  {
   "cells": [
    {
     "cell_type": "heading",
     "level": 1,
     "metadata": {},
     "source": [
      "Chapitre 8 : Building Price Models"
     ]
    },
    {
     "cell_type": "markdown",
     "metadata": {},
     "source": [
      "Bayesian classifiers, decision trees, and support-vector machines are not the best algorithms for making predictions about numerical data based on\n",
      "many different attributes, such as prices.\n",
      "This Notebook will look at algorithms that can be trained to make numerical predictions, and even display probability distributions for the predictions to help the user interpret how the prediction is being made.\n",
      "\n",
      "We\u2019ll be looking at how to use these algorithms for building models that predict prices. Economists consider prices, to be a good method of using collective intelligence to determine the real value of something; in a large market with many buyers and sellers, the price will usually reach the optimal value for both sides of the transaction. Price prediction is also a good test for algorithms, since there are usually many different factors to consider when determining a price.\n",
      "\n",
      "An important part of making numerical predictions is determining which variables are important and in what combinations.\n",
      "\n"
     ]
    },
    {
     "cell_type": "heading",
     "level": 2,
     "metadata": {},
     "source": [
      "Building a Sample Dataset"
     ]
    },
    {
     "cell_type": "markdown",
     "metadata": {},
     "source": [
      "In this section, you\u2019ll create a dataset of wine prices based on a simple artificial model. The prices are based on a combination of the rating and the age of the wine.\n",
      "\n",
      "The model assumes that wine has a peak age, which is older for good wines and almost immediate for bad wines. A high-rated wine will start at a high price and increase in value until its peak age, and a low-rated wine will start cheap and get cheaper.\n",
      "\n"
     ]
    },
    {
     "cell_type": "code",
     "collapsed": false,
     "input": [
      "from random import random,randint\n",
      "import math\n",
      "\n",
      "#First we calcul the wine price by this function\n",
      "def wineprice(rating,age):\n",
      "    peak_age = rating-50\n",
      "    \n",
      "    #calculate price based on rating\n",
      "    price=rating/2\n",
      "    if age>peak_age:\n",
      "        #Past its peak, goes bad in 5 years\n",
      "        price = price*(5-(age-peak_age))\n",
      "    else:\n",
      "        # Increases to 5x original value as it\n",
      "        # approaches its peak\n",
      "        price=price*(5*((age+1)/peak_age))\n",
      "    if price<0: \n",
      "        price=0\n",
      "    return price\n"
     ],
     "language": "python",
     "metadata": {},
     "outputs": [],
     "prompt_number": 19
    },
    {
     "cell_type": "markdown",
     "metadata": {},
     "source": [
      "We also build a data set of wine prices by creating 200 bottles of wine and calculates their prices from the model."
     ]
    },
    {
     "cell_type": "code",
     "collapsed": false,
     "input": [
      "def wineset1( ):\n",
      "    rows=[]\n",
      "    for i in range(300):\n",
      "        # Create a random age and rating\n",
      "        rating=random( )*50+50\n",
      "        age=random( )*50\n",
      "        # Get reference price\n",
      "        price=wineprice(rating,age)\n",
      "        # Add some noise (taxes and local variations in price)\n",
      "        price*=(random( )*0.4+0.8)\n",
      "        # Add to the dataset\n",
      "        rows.append({'input':(rating,age),\n",
      "                     'result':price})\n",
      "    return rows\n"
     ],
     "language": "python",
     "metadata": {},
     "outputs": [],
     "prompt_number": 22
    },
    {
     "cell_type": "code",
     "collapsed": false,
     "input": [
      "print \"95.0 & 3.0 :\",wineprice(95.0,3.0)\n",
      "print \"95.0 & 8.0 :\",wineprice(95.0,8.0)\n",
      "print \"99.0 & 1 :\",wineprice(99.0,1.0)\n",
      "print \"99.0 & 3.0 :\",wineprice(99.0,3.0)\n",
      "\n",
      "data = wineset1()\n",
      "print data[0]\n",
      "print data[1]"
     ],
     "language": "python",
     "metadata": {},
     "outputs": [
      {
       "output_type": "stream",
       "stream": "stdout",
       "text": [
        "95.0 & 3.0 : 21.1111111111\n",
        "95.0 & 8.0 : 47.5\n",
        "99.0 & 1 : 10.1020408163\n",
        "99.0 & 3.0 : 20.2040816327\n",
        "{'input': (84.90670913943126, 33.10246856265833), 'result': 203.24299876530938}\n",
        "{'input': (61.29084185624854, 41.40668468332026), 'result': 0.0}\n"
       ]
      }
     ],
     "prompt_number": 25
    },
    {
     "cell_type": "markdown",
     "metadata": {},
     "source": [
      "In our dataset, the second bottle is too old and has expired, while the first has rating and ages well. "
     ]
    },
    {
     "cell_type": "heading",
     "level": 2,
     "metadata": {},
     "source": [
      "K-Nearest Neighbors"
     ]
    },
    {
     "cell_type": "markdown",
     "metadata": {},
     "source": [
      "The easiest approach to our wine pricing problem is the same one we would use if you were trying to price something manually : Find a few of the most similar items and assume the prices will be roughly the same.\n",
      "This approach is called k-nearest neighbors (kNN).\n",
      "\n",
      "The k in kNN refers to the number of items that will be averaged to get the final result. If the data were perfect, you could use k=1, meaning you would just pick the nearest neighbor and use its price as the answer. But in our case, we add \u201cnoise\u201d to simulate the real-world situation\n",
      "\n",
      "Choosing our correct number of neighbors can be done manually for different datasets, or it can be done with optimization.\n",
      "\n",
      "But before arguments of how many k need the best optimization, we need to implement Euclidean distance to measure how similar two items are.\n"
     ]
    },
    {
     "cell_type": "code",
     "collapsed": false,
     "input": [
      "def euclidean(v1,v2):\n",
      "    d=0.0\n",
      "    for i in range(len(v1)):\n",
      "        d+=(v1[i]-v2[i])**2\n",
      "    return math.sqrt(d)\n"
     ],
     "language": "python",
     "metadata": {},
     "outputs": [],
     "prompt_number": 14
    },
    {
     "cell_type": "code",
     "collapsed": false,
     "input": [
      "print \"                Rating      |        age  \"\n",
      "print \"item 1 : \",data[0]['input']\n",
      "print \"item 2 : \",data[1]['input']\n",
      "print \"distance between item1 and item 2 : \",euclidean(data[0]['input'],data[1]['input'])"
     ],
     "language": "python",
     "metadata": {},
     "outputs": [
      {
       "output_type": "stream",
       "stream": "stdout",
       "text": [
        "                Rating      |        age  \n",
        "item 1 :  (91.60587702115537, 6.9424500262202145)\n",
        "item 2 :  (88.7155674111813, 7.807582985166683)\n",
        "distance between item1 and item 2 :  3.01700922739\n"
       ]
      }
     ],
     "prompt_number": 15
    },
    {
     "cell_type": "markdown",
     "metadata": {},
     "source": [
      "Then we just need to implement the kNN algorithme"
     ]
    },
    {
     "cell_type": "code",
     "collapsed": false,
     "input": [
      "def getdistances(data,vec1):\n",
      "    distancelist=[]\n",
      "    for i in range(len(data)):\n",
      "        vec2=data[i]['input']\n",
      "        distancelist.append((euclidean(vec1,vec2),i))\n",
      "    distancelist.sort( )\n",
      "    return distancelist\n",
      "\n",
      "def knnestimate(data,vec1,k=3):\n",
      "    # Get sorted distances\n",
      "    dlist=getdistances(data,vec1)\n",
      "    avg=0.0\n",
      "    \n",
      "    #Take the average of the top k results\n",
      "    for i in range(k):\n",
      "        idx=dlist[i][1]\n",
      "        avg+=data[idx]['result']\n",
      "    avg=avg/k\n",
      "    return avg\n",
      "\n"
     ],
     "language": "python",
     "metadata": {},
     "outputs": [],
     "prompt_number": 16
    },
    {
     "cell_type": "markdown",
     "metadata": {},
     "source": [
      "Then we run some test to verify"
     ]
    },
    {
     "cell_type": "code",
     "collapsed": false,
     "input": [
      "print \"Estimate price (k=3) for 95.0 & 3.0 :\", knnestimate(data,(95.0,3.0))\n",
      "print \"Estimate price (k=3) for 99.0 & 3.0 :\", knnestimate(data,(99.0,3.0))\n",
      "print \"Estimate price (k=3) for 99.0 & 5.0 :\", knnestimate(data,(99.0,5.0))\n",
      "print \"Calculate price for 99.0 & 5.0 :\", wineprice(99.0,5.0)\n",
      "print \"Estimate price (k=1) for 99.0 & 5.0 :\", knnestimate(data,(99.0,5.0),k=1)\n",
      "print \"Estimate price (k=5) for 99.0 & 5.0 :\", knnestimate(data,(99.0,5.0),k=5)\n",
      "print \"Estimate price (k=7) for 99.0 & 5.0 :\", knnestimate(data,(99.0,5.0),k=7)\n",
      "\n",
      "\n"
     ],
     "language": "python",
     "metadata": {},
     "outputs": [
      {
       "output_type": "stream",
       "stream": "stdout",
       "text": [
        "Estimate price (k=3) for 95.0 & 3.0 : 17.6616591049\n",
        "Estimate price (k=3) for 99.0 & 3.0 : 14.6577444572\n",
        "Estimate price (k=3) for 99.0 & 5.0 : 29.0155844019\n",
        "Calculate price for 99.0 & 5.0 : 30.306122449\n",
        "Estimate price (k=1) for 99.0 & 5.0 : 22.0257125042\n",
        "Estimate price (k=5) for 99.0 & 5.0 : 32.4626997301\n",
        "Estimate price (k=7) for 99.0 & 5.0 : 30.6263264079\n"
       ]
      }
     ],
     "prompt_number": 26
    },
    {
     "cell_type": "markdown",
     "metadata": {},
     "source": [
      "By triing different values for k, we notice that the value of the estimate price seem become close to the calculate value when k become high.\n",
      "\n",
      "So to verify this theorie we are going to plot estimated price of a botle (99.0 & 5.0) in function of k"
     ]
    },
    {
     "cell_type": "code",
     "collapsed": false,
     "input": [
      "import matplotlib.pyplot as plt\n",
      "import numpy as np\n",
      "\n",
      "x = [1, 3, 5, 7,9,11,13,15,17,19,21]\n",
      "y1, y2 = list(), list()\n",
      "\n",
      "for i in x:\n",
      "    y1.append(knnestimate(data,(99.0,5.0),k=i))\n",
      "    y2.append(wineprice(99.0,5.0))\n",
      "\n",
      "plt.plot(x,y1)\n",
      "plt.plot(x,y2)\n",
      "plt.ylabel('wine price')\n",
      "plt.xlabel(\"k ok kNN\")\n",
      "plt.show()"
     ],
     "language": "python",
     "metadata": {},
     "outputs": [
      {
       "metadata": {},
       "output_type": "display_data",
       "png": "[encoded data removed]",
       "text": [
        "<matplotlib.figure.Figure at 0x7f5cf06ff790>"
       ]
      }
     ],
     "prompt_number": 27
    },
    {
     "cell_type": "markdown",
     "metadata": {},
     "source": [
      "This plot show that its with k=7 that we are the closest than the calculated value. \n",
      "it also show that bigger the k is does not implies the best prediction of the pice. This is because the kNN algorithme do a mean of k-nearest neighbors."
     ]
    },
    {
     "cell_type": "heading",
     "level": 2,
     "metadata": {},
     "source": [
      "Weighted Neighbors"
     ]
    },
    {
     "cell_type": "markdown",
     "metadata": {},
     "source": [
      "One way to compensate for the fact that the algorithm may be using neighbors that are too far away is to weight them according to their distance. In fact, the more similar the items are, the smaller the distance between them, so we\u2019ll need a way of converting distances to weights. There are a few different ways of doing this, each with advantages and drawbacks. In the next code we will look at three functions that we can use.\n",
      "\n"
     ]
    },
    {
     "cell_type": "code",
     "collapsed": false,
     "input": [
      "#Inverse function\n",
      "def inverseweight(dist,num=1.0,const=0.1):\n",
      "    return num/(dist+const)\n",
      "\n",
      "#Subtraction Function\n",
      "def subtractweight(dist,const=1.0):\n",
      "    if dist>const:\n",
      "        return 0\n",
      "    else:\n",
      "        return const-dist\n",
      "\n",
      "#Gaussian Function\n",
      "def gaussian(dist,sigma=10.0):\n",
      "    return math.e**(-dist**2/(2*sigma**2))\n"
     ],
     "language": "python",
     "metadata": {},
     "outputs": [],
     "prompt_number": 28
    },
    {
     "cell_type": "markdown",
     "metadata": {},
     "source": [
      "We now test different functionon some of the items with varying parameters\n",
      "and see how they differ:\n"
     ]
    },
    {
     "cell_type": "code",
     "collapsed": false,
     "input": [
      "print \"Inv 0.1 : \",inverseweight(0.1)\n",
      "print \"Sub 0.1 : \",subtractweight(0.1)\n",
      "print \"Gau 0.1 : \",gaussian(0.1)\n",
      "print \"Inv 1.0 : \",inverseweight(1.0)\n",
      "print \"Sub 1.0 : \",subtractweight(1.0)\n",
      "print \"Gau 1.0 : \",gaussian(1.0)\n",
      "print \"Gau 3.0 : \",gaussian(3.0)\n"
     ],
     "language": "python",
     "metadata": {},
     "outputs": [
      {
       "output_type": "stream",
       "stream": "stdout",
       "text": [
        "Inv 0.1 :  5.0\n",
        "Sub 0.1 :  0.9\n",
        "Gau 0.1 :  0.99995000125\n",
        "Inv 1.0 :  0.909090909091\n",
        "Sub 1.0 :  0.0\n",
        "Gau 1.0 :  0.995012479193\n",
        "Gau 3.0 :  0.955997481833\n"
       ]
      }
     ],
     "prompt_number": 29
    },
    {
     "cell_type": "markdown",
     "metadata": {},
     "source": [
      "Now than we implement methode to weighted our neighbors, we implement the weighted kNN. it  works the same way as the regular kNN function, by first getting the sorted distances and taking the k closest elements. The important difference is that instead of just averaging them, the weighted kNN calculates a weighted average. The weighted average is calculated by multiplying each item\u2019s weight by its value before adding them together. After the sum is calculated, it is divided by the sum of all the weights.\n"
     ]
    },
    {
     "cell_type": "code",
     "collapsed": false,
     "input": [
      "def weightedknn(data,vec1,k=5,weightf=gaussian):\n",
      "    # Get distances\n",
      "    dlist=getdistances(data,vec1)\n",
      "    avg=0.0\n",
      "    totalweight=0.0\n",
      "    # Get weighted average\n",
      "    for i in range(k):\n",
      "        dist=dlist[i][0]\n",
      "        idx=dlist[i][1]\n",
      "        weight=weightf(dist)\n",
      "        avg+=weight*data[idx]['result']\n",
      "        totalweight+=weight\n",
      "    avg=avg/totalweight\n",
      "    return avg\n"
     ],
     "language": "python",
     "metadata": {},
     "outputs": [],
     "prompt_number": 30
    },
    {
     "cell_type": "code",
     "collapsed": false,
     "input": [
      "print \"Calculate price for 99.0 & 5.0 :\", wineprice(99.0,5.0)\n",
      "print \"Estimate price (k=7) for 99.0 & 5.0 :\", knnestimate(data,(99.0,5.0),k=7)\n",
      "print \"Estimate price (wk=7 gaussian) for 99.0 & 5.0 :\",weightedknn(data,(99.0,5.0),k=7)"
     ],
     "language": "python",
     "metadata": {},
     "outputs": [
      {
       "output_type": "stream",
       "stream": "stdout",
       "text": [
        "Calculate price for 99.0 & 5.0 : 30.306122449\n",
        "Estimate price (k=7) for 99.0 & 5.0 : 30.6263264079\n",
        "Estimate price (wk=7 gaussian) for 99.0 & 5.0 : 30.5313784162\n"
       ]
      }
     ],
     "prompt_number": 31
    },
    {
     "cell_type": "code",
     "collapsed": false,
     "input": [
      "y3, y4, y5 = list(), list(), list()\n",
      "\n",
      "for i in x:\n",
      "    y3.append(weightedknn(data,(99.0,5.0),k=i))\n",
      "    y4.append(weightedknn(data,(99.0,5.0),k=i,weightf=inverseweight))\n",
      "    #y5.append(weightedknn(data,(99.0,5.0),k=i,weightf=subtractweight))\n",
      "    \n",
      "plt.plot(x,y1)\n",
      "plt.plot(x,y2)\n",
      "plt.plot(x,y3)\n",
      "plt.plot(x,y4)\n",
      "#plt.plot(x,y5)\n",
      "plt.ylabel('wine price')\n",
      "plt.xlabel(\"k ok kNN\")\n",
      "plt.show()"
     ],
     "language": "python",
     "metadata": {},
     "outputs": [
      {
       "metadata": {},
       "output_type": "display_data",
       "png": "[encoded data removed]",
       "text": [
        "<matplotlib.figure.Figure at 0x7f5cf0832a50>"
       ]
      }
     ],
     "prompt_number": 32
    },
    {
     "cell_type": "markdown",
     "metadata": {},
     "source": [
      "In this plot the results show that weightedknn gets closer to the correct answer than knnestimate. However, this is just for a couple of samples. A rigorous test would involve a lot of different items from the dataset, which you could actually use to decide the best algorithm and best parameters. Next we'll see ways to perform a test like this.\n"
     ]
    },
    {
     "cell_type": "heading",
     "level": 2,
     "metadata": {},
     "source": [
      "Cross-Validation"
     ]
    },
    {
     "cell_type": "markdown",
     "metadata": {},
     "source": [
      "Cross-validation is the name given to a set of techniques that divide up data into training sets and test sets.\n",
      "\n",
      "The training set is given to the algorithm, along with the correct answers (in this case, prices), and becomes the set used to make predictions. The algorithm is then asked to make predictions for each item in the test set. The answers it gives are compared to the correct answers, and an overall score for how well the algorithm did is calculated.\n",
      "\n",
      "The function takes an algorithm, algf, which accepts a dataset and query. It loops over every row in the test set and then calculates the best guess by applying algf. It then subtracts the guess from the real result.\n",
      "\n",
      "\n"
     ]
    },
    {
     "cell_type": "code",
     "collapsed": false,
     "input": [
      "#Divide data 95% -> train and 5% -> test\n",
      "def dividedata(data,test=0.05):\n",
      "    trainset=[]\n",
      "    testset=[]\n",
      "    for row in data:\n",
      "        if random( )<test:\n",
      "            testset.append(row)\n",
      "        else:\n",
      "            trainset.append(row)\n",
      "    return trainset,testset\n",
      "\n",
      "#Test function\n",
      "def testalgorithm(algf,trainset,testset):\n",
      "    error=0.0\n",
      "    for row in testset:\n",
      "        guess=algf(trainset,row['input'])\n",
      "        error+=(row['result']-guess)**2\n",
      "    return error/len(testset)\n",
      "\n",
      "#Our run function for cross validation\n",
      "def crossvalidate(algf,data,trials=100,test=0.05):\n",
      "    error=0.0\n",
      "    for i in range(trials):\n",
      "        trainset,testset=dividedata(data,test)\n",
      "        error+=testalgorithm(algf,trainset,testset)\n",
      "    return error/trials\n"
     ],
     "language": "python",
     "metadata": {},
     "outputs": [],
     "prompt_number": 62
    },
    {
     "cell_type": "markdown",
     "metadata": {},
     "source": [
      "Then we can try, for example, testing knnestimate with different values of k\n"
     ]
    },
    {
     "cell_type": "code",
     "collapsed": false,
     "input": [
      "def knn3(d,v): \n",
      "    return knnestimate(d,v,k=3)\n",
      "\n",
      "def knn1(d,v):\n",
      "    return knnestimate(d,v,k=1)\n",
      "\n",
      "def knn7(d,v):\n",
      "    return knnestimate(d,v,k=7)\n",
      "\n",
      "def knn9(d,v):\n",
      "    return knnestimate(d,v,k=9)\n",
      "\n",
      "\n",
      "\n",
      "print \"cross - Knn - 1 :\",crossvalidate(knn1,data)\n",
      "print \"cross - Knn - 3 :\",crossvalidate(knn3,data)\n",
      "print \"cross - Knn - 5 :\",crossvalidate(knnestimate,data)\n",
      "print \"cross - Knn - 7 :\",crossvalidate(knn7,data)\n",
      "print \"cross - Knn - 9 :\",crossvalidate(knn9,data)"
     ],
     "language": "python",
     "metadata": {},
     "outputs": [
      {
       "output_type": "stream",
       "stream": "stdout",
       "text": [
        "cross - Knn - 1 : "
       ]
      },
      {
       "output_type": "stream",
       "stream": "stdout",
       "text": [
        "743.177600705\n",
        "cross - Knn - 3 : "
       ]
      },
      {
       "output_type": "stream",
       "stream": "stdout",
       "text": [
        "579.06069622\n",
        "cross - Knn - 5 : "
       ]
      },
      {
       "output_type": "stream",
       "stream": "stdout",
       "text": [
        "638.668943152\n",
        "cross - Knn - 7 : "
       ]
      },
      {
       "output_type": "stream",
       "stream": "stdout",
       "text": [
        "629.194206522\n",
        "cross - Knn - 9 : "
       ]
      },
      {
       "output_type": "stream",
       "stream": "stdout",
       "text": [
        "738.721492733\n"
       ]
      }
     ],
     "prompt_number": 63
    },
    {
     "cell_type": "markdown",
     "metadata": {},
     "source": [
      "We can also try the different weighting functions that you defined for weighted kNN to see which one gives the best results:\n"
     ]
    },
    {
     "cell_type": "code",
     "collapsed": false,
     "input": [
      "def knninverse(d,v):\n",
      "    return weightedknn(d,v,weightf=inverseweight)\n",
      "\n",
      "print \"cross - WKnn - 5 - gaussian : \",crossvalidate(weightedknn,data)\n",
      "print \"cross - WKnn - 5 - inverse : \",crossvalidate(knninverse,data)\n",
      "\n",
      "\n"
     ],
     "language": "python",
     "metadata": {},
     "outputs": [
      {
       "output_type": "stream",
       "stream": "stdout",
       "text": [
        "cross - WKnn - 5 - gaussian :  "
       ]
      },
      {
       "output_type": "stream",
       "stream": "stdout",
       "text": [
        "736.650172584\n",
        "cross - WKnn - 5 - inverse :  "
       ]
      },
      {
       "output_type": "stream",
       "stream": "stdout",
       "text": [
        "594.85612124\n"
       ]
      }
     ],
     "prompt_number": 64
    },
    {
     "cell_type": "markdown",
     "metadata": {},
     "source": [
      "We see that the gaussian methode give us better results than inverse methode"
     ]
    },
    {
     "cell_type": "heading",
     "level": 2,
     "metadata": {},
     "source": [
      "Heterogeneous Variables"
     ]
    },
    {
     "cell_type": "markdown",
     "metadata": {},
     "source": [
      "The dataset you built at the start of this chapter was designed to be artificially simple. In fact, all the variables used to predict the price are roughly comparable and are all important to the final result.\n",
      "\n",
      "Now, we wondered what's append if we add to our data set some variables\n",
      "that influenced the price such as the size of the bottle in milliliters. And in other side, irrelevant variables like the number of the aisle in which you found the wine.\n",
      "\n",
      "In both case, it would badly hinder the ability of the algorithms to make accurate predictions.\n",
      "\n",
      "For improve this we'll build a new data set containing new variables (bottle size and aisle).\n",
      "\n",
      "\n"
     ]
    },
    {
     "cell_type": "code",
     "collapsed": false,
     "input": [
      "def wineset2( ):\n",
      "    rows=[]\n",
      "    for i in range(300):\n",
      "        rating=random( )*50+50\n",
      "        age=random( )*50\n",
      "        aisle=float(randint(1,20))\n",
      "        bottlesize=[375.0,750.0,1500.0,3000.0][randint(0,3)]\n",
      "        price=wineprice(rating,age)\n",
      "        price*=(bottlesize/750)\n",
      "        price*=(random( )*0.9+0.2)\n",
      "        rows.append({'input':(rating,age,aisle,bottlesize),\n",
      "                     'result':price})\n",
      "    return rows\n",
      "\n",
      "data2 = wineset2()"
     ],
     "language": "python",
     "metadata": {},
     "outputs": [],
     "prompt_number": 65
    },
    {
     "cell_type": "markdown",
     "metadata": {},
     "source": [
      "Now we are going to see hox it affects the kNN predictors.\n"
     ]
    },
    {
     "cell_type": "code",
     "collapsed": false,
     "input": [
      "print \"Cross - knn3 - data1 : \",crossvalidate(knnestimate,data)\n",
      "print \"Cross - knn3 - data2 : \",crossvalidate(knnestimate,data2)\n",
      "print \"Cross - Wknn - data1 : \",crossvalidate(weightedknn,data)\n",
      "print \"Cross - Wknn - data2 : \",crossvalidate(weightedknn,data2)\n",
      "\n"
     ],
     "language": "python",
     "metadata": {},
     "outputs": [
      {
       "output_type": "stream",
       "stream": "stdout",
       "text": [
        "Cross - knn3 - data1 :  "
       ]
      },
      {
       "output_type": "stream",
       "stream": "stdout",
       "text": [
        "693.117194346\n",
        "Cross - knn3 - data2 :  "
       ]
      },
      {
       "output_type": "stream",
       "stream": "stdout",
       "text": [
        "7848.05255178\n",
        "Cross - Wknn - data1 :  "
       ]
      },
      {
       "output_type": "stream",
       "stream": "stdout",
       "text": [
        "733.223828431\n",
        "Cross - Wknn - data2 :  "
       ]
      },
      {
       "output_type": "stream",
       "stream": "stdout",
       "text": [
        "6210.83427997\n"
       ]
      }
     ],
     "prompt_number": 66
    },
    {
     "cell_type": "markdown",
     "metadata": {},
     "source": [
      "we notice that even though the dataset now contains even more information and less noise than it did before (which should theoretically lead to better predictions), the values returned by crossvalidate have actually gotten a lot worse. \n",
      "\n",
      "This is because the algorithms do not yet know how to treat the variables differently.\n",
      "\n",
      "To solve this problem, we are going to try to normalize the values base on distance.\n",
      "\n",
      "One way to accomplish both things is to rescale the dimensions before performing any of the calculations.\n",
      "\n",
      "Our rescale function takes a list of items and a parameter called scale, which is a list of real numbers. It returns a new dataset with all the values multiplied by the values in scale.\n",
      "\n"
     ]
    },
    {
     "cell_type": "code",
     "collapsed": false,
     "input": [
      "def rescale(data,scale):\n",
      "    scaleddata=[]\n",
      "    for row in data:\n",
      "        scaled=[scale[i]*row['input'][i] for i in range(len(scale))]\n",
      "        scaleddata.append({'input':scaled,'result':row['result']})\n",
      "    return scaleddata"
     ],
     "language": "python",
     "metadata": {},
     "outputs": [],
     "prompt_number": 67
    },
    {
     "cell_type": "markdown",
     "metadata": {},
     "source": [
      "Now we will try this function by choosing cleverly parameters and see if this makes for good predictions:\n"
     ]
    },
    {
     "cell_type": "code",
     "collapsed": false,
     "input": [
      "sdata = rescale(data2,[10,10,0,0.5])\n",
      "print \"Cross - knn3 - data2 : \",crossvalidate(knnestimate,data2)\n",
      "print \"Cross - knn3 - sdata : \",crossvalidate(knnestimate,sdata)\n",
      "print \"Cross - Wknn - data2 : \",crossvalidate(weightedknn,data2)\n",
      "print \"Cross - Wknn - sdata : \",crossvalidate(weightedknn,sdata)\n",
      "\n",
      "\n"
     ],
     "language": "python",
     "metadata": {},
     "outputs": [
      {
       "output_type": "stream",
       "stream": "stdout",
       "text": [
        "Cross - knn3 - data2 :  "
       ]
      },
      {
       "output_type": "stream",
       "stream": "stdout",
       "text": [
        "7042.43483833\n",
        "Cross - knn3 - sdata :  "
       ]
      },
      {
       "output_type": "stream",
       "stream": "stdout",
       "text": [
        "6841.38208128\n",
        "Cross - Wknn - data2 :  "
       ]
      },
      {
       "output_type": "stream",
       "stream": "stdout",
       "text": [
        "7339.37014614\n",
        "Cross - Wknn - sdata :  "
       ]
      },
      {
       "output_type": "stream",
       "stream": "stdout",
       "text": [
        "7260.87064041\n"
       ]
      }
     ],
     "prompt_number": 68
    },
    {
     "cell_type": "markdown",
     "metadata": {},
     "source": [
      "The results are pretty good, but this example is base on chosen parameters. Because in our case, we know in advance which variables are important.\n",
      "However, most of the time we'll work with datasets that we didn\u2019t build ourself, and we won\u2019t necessarily know which variables are unimportant and which ones have a significant impact.\n",
      "\n",
      "Thank's to Optimization, we'll be able to automatically find a good solution when there are many input variables to consider.\n"
     ]
    },
    {
     "cell_type": "heading",
     "level": 2,
     "metadata": {},
     "source": [
      "Optimizing the Scale"
     ]
    },
    {
     "cell_type": "markdown",
     "metadata": {},
     "source": [
      "For making optimization we simply requires to specify a domain that gives the number of variables, a range, and a cost function. The crossvalidate function returns a higher value for a worse solution, so it\u2019s already essentially a cost function.\n",
      "\n",
      "The only thing you need to do is wrap it so that it takes a list of values as its parameter, rescales the data, and calculates the cross-validation error."
     ]
    },
    {
     "cell_type": "code",
     "collapsed": false,
     "input": [
      "\n",
      "def createcostfunction(algf,data):\n",
      "    def costf(scale):\n",
      "        sdata=rescale(data2,scale)\n",
      "        return crossvalidate(algf,sdata,trials=10)\n",
      "    return costf\n",
      "\n",
      "\n",
      "weightdomain=[(0,20)]*4\n"
     ],
     "language": "python",
     "metadata": {},
     "outputs": [],
     "prompt_number": 69
    },
    {
     "cell_type": "code",
     "collapsed": false,
     "input": [
      "def annealingoptimize(domain,costf,T=10000.0,cool=0.95,step=1):\n",
      "    # Initialize the values randomly\n",
      "    vec=[float(randint(domain[i][0],domain[i][1]))\n",
      "         for i in range(len(domain))]\n",
      "    while T>0.1:\n",
      "        # Choose one of the indices\n",
      "        i=randint(0,len(domain)-1)\n",
      "        # Choose a direction to change it\n",
      "        dir=randint(-step,step)\n",
      "        # Create a new list with one of the values changed\n",
      "        vecb=vec[:]\n",
      "        vecb[i]+=dir\n",
      "        if vecb[i]<domain[i][0]: \n",
      "            vecb[i]=domain[i][0]\n",
      "        elif vecb[i]>domain[i][1]: \n",
      "            vecb[i]=domain[i][1]\n",
      "        # Calculate the current cost and the new cost\n",
      "        ea=costf(vec)\n",
      "        eb=costf(vecb)\n",
      "        p=pow(math.e,(-eb-ea)/T)\n",
      "        # Is it better, or does it make the probability\n",
      "        # cutoff?\n",
      "        if (eb<ea or random( )<p):\n",
      "            vec=vecb\n",
      "        # Decrease the temperature\n",
      "        T=T*cool\n",
      "    return vec\n",
      "\n",
      "def geneticoptimize(domain,costf,popsize=50,step=1,mutprod=0.2,elite=0.2,maxiter=100):\n",
      "    # Mutation Operation\n",
      "    def mutate(vec):\n",
      "        i=randint(0,len(domain)-1)\n",
      "        if random( )<0.5 and vec[i]>domain[i][0]:\n",
      "            return vec[0:i]+[vec[i]-step]+vec[i+1:]\n",
      "        elif vec[i]<domain[i][1]:\n",
      "            return vec[0:i]+[vec[i]+step]+vec[i+1:]\n",
      "    \n",
      "    # Crossover Operation\n",
      "    def crossover(r1,r2):\n",
      "        i=randint(1,len(domain)-2)\n",
      "        return r1[0:i]+r2[i:]\n",
      "\n",
      "    # Build the initial population\n",
      "    pop=[]\n",
      "    for i in range(popsize):\n",
      "        vec=[randint(domain[i][0],domain[i][1])\n",
      "             for i in range(len(domain))]\n",
      "        pop.append(vec)\n",
      "\n",
      "    # How many winners from each generation?\n",
      "    topelite=int(elite*popsize)\n",
      "\n",
      "    # Main loop\n",
      "    for i in range(maxiter):\n",
      "        scores=[(costf(v),v) for v in pop]\n",
      "        scores.sort( )\n",
      "        ranked=[v for (s,v) in scores]\n",
      "        # Start with the pure winners\n",
      "        pop=ranked[0:topelite]\n",
      "        # Add mutated and bred forms of the winners\n",
      "        while len(pop)<popsize:\n",
      "            if random( )<mutprob:\n",
      "                #Mutation\n",
      "                c=randint(0,topelite)\n",
      "                pop.append(mutate(ranked[c]))\n",
      "            else:\n",
      "                # Crossover\n",
      "                c1=randint(0,topelite)\n",
      "                c2=randint(0,topelite)\n",
      "                pop.append(crossover(ranked[c1],ranked[c2]))\n",
      "    # Print current best score\n",
      "    print scores[0][0]\n",
      "    return scores[0][1]"
     ],
     "language": "python",
     "metadata": {},
     "outputs": [],
     "prompt_number": 58
    },
    {
     "cell_type": "code",
     "collapsed": false,
     "input": [
      "costfk=createcostfunction(knnestimate,data)\n",
      "costfw = createcostfunction(weightedknn,data)\n",
      "bestWeight = annealingoptimize(weightdomain,costfk,step=2)\n",
      "print \"Best optimisation for KNN :\", bestWeight\n",
      "\n",
      "sdatak = rescale(data2,bestWeight)\n",
      "print \"Cross - knn3 - sdata : \",crossvalidate(knnestimate,sdatak)"
     ],
     "language": "python",
     "metadata": {},
     "outputs": [
      {
       "output_type": "stream",
       "stream": "stdout",
       "text": [
        "Best optimisation for KNN : [15.0, 12.0, 7.0, 2.0]\n",
        "Cross - knn3 - sdata :  "
       ]
      },
      {
       "output_type": "stream",
       "stream": "stdout",
       "text": [
        "5573.81644552\n"
       ]
      }
     ],
     "prompt_number": 78
    },
    {
     "cell_type": "code",
     "collapsed": false,
     "input": [
      "\n"
     ],
     "language": "python",
     "metadata": {},
     "outputs": [],
     "prompt_number": 78
    },
    {
     "cell_type": "heading",
     "level": 2,
     "metadata": {},
     "source": [
      "Unven Distributions"
     ]
    },
    {
     "cell_type": "markdown",
     "metadata": {},
     "source": [
      "So far we\u2019ve been assuming that if you take an average or weighted average of the data, you\u2019ll get a pretty good estimate of the final price. In many cases this will be accurate, but in some situations there may be an unmeasured variable that can have a big effect on the outcome. Imagine that in the wine example there were buyers from two separate groups: people who bought from the liquor store, and people who bought from a discount store and received a 50 percent discount. Unfortunately, this information isn\u2019t tracked in the dataset.\n",
      "\n",
      "Let's create a data set that simulates these properties\n",
      "\n",
      "\n"
     ]
    },
    {
     "cell_type": "code",
     "collapsed": false,
     "input": [
      "def wineset3( ):\n",
      "    rows=wineset1( )\n",
      "    for row in rows:\n",
      "        if random( )<0.5:\n",
      "            # Wine was bought at a discount store\n",
      "            row['result']*=0.6\n",
      "    return rows\n",
      "\n",
      "data3 = wineset3( )\n",
      "print \"Price 99.0 & 20.0 :\" ,wineprice(99.0,20.0)\n",
      "print \"Estimation 99.0 & 20.0 :\",weightedknn(data3,[99.0,20.0])\n",
      "print \"Cross : \",crossvalidate(weightedknn,data3)\n",
      "\n"
     ],
     "language": "python",
     "metadata": {},
     "outputs": [
      {
       "output_type": "stream",
       "stream": "stdout",
       "text": [
        "Price 99.0 & 20.0 : 106.071428571\n",
        "Estimation 99.0 & 20.0 : 94.2559188043\n",
        "Cross :  "
       ]
      },
      {
       "output_type": "stream",
       "stream": "stdout",
       "text": [
        "708.839631515\n"
       ]
      }
     ],
     "prompt_number": 108
    },
    {
     "cell_type": "markdown",
     "metadata": {},
     "source": [
      "Rather than taking the weighted average of the neighbors and getting a single price estimate, it might be interesting in this case to know the probability that an item falls within a certain price range. In the example, given inputs of 99 percent and 20 years, you\u2019d like a function that tells you there\u2019s a 50 percent chance that the price is between \\$40 and \\$80, and a 50 percent chance that it\u2019s between \\$80 and \\$100.\n"
     ]
    },
    {
     "cell_type": "code",
     "collapsed": false,
     "input": [
      "def probguess(data,vec1,low,high,k=5,weightf=gaussian):\n",
      "    dlist=getdistances(data,vec1)\n",
      "    nweight=0.0\n",
      "    tweight=0.0\n",
      "    for i in range(k):\n",
      "        dist=dlist[i][0]\n",
      "        idx=dlist[i][1]\n",
      "        weight=weightf(dist)\n",
      "        v=data[idx]['result']\n",
      "        # Is this point in the range?\n",
      "        if v>=low and v<=high:\n",
      "            nweight+=weight\n",
      "        tweight+=weight\n",
      "    if tweight==0: return 0\n",
      "    # The probability is the weights in the range\n",
      "    # divided by all the weights\n",
      "    return nweight/tweight\n"
     ],
     "language": "python",
     "metadata": {},
     "outputs": [],
     "prompt_number": 109
    },
    {
     "cell_type": "markdown",
     "metadata": {},
     "source": [
      "Like kNN, this function sorts the data by the distance from vec1 and determines the weights of the nearest neighbors. It adds the weights of all the neighbors together to get tweight. It also considers whether each neighbor\u2019s price is within the range (between low and high); if so, it adds the weight to nweight. The probability that the price for vec1 is between low and high is nweight divided by tweight.\n"
     ]
    },
    {
     "cell_type": "code",
     "collapsed": false,
     "input": [
      "print probguess(data,[99,20],40,80)\n",
      "print probguess(data,[99,20],80,120)\n",
      "print probguess(data,[99,20],120,1000)\n",
      "print probguess(data,[99,20],30,120)\n",
      "print probguess(data,[1,1],20,80)\n",
      "\n"
     ],
     "language": "python",
     "metadata": {},
     "outputs": [
      {
       "output_type": "stream",
       "stream": "stdout",
       "text": [
        "0.0\n",
        "0.397017748389\n",
        "0.602982251611\n",
        "0.397017748389\n",
        "0.248250621942\n"
       ]
      }
     ],
     "prompt_number": 110
    },
    {
     "cell_type": "markdown",
     "metadata": {},
     "source": [
      "The function gives good results. The ranges that are well outside the actual prices have probabilities of 0, and the ones that capture the full range of possibilities are close to 1. By breaking it down into smaller buckets, you can determine the actual ranges in which things tend to cluster.\n",
      "\n",
      "However, this requires that you guess at the ranges.\n",
      "\n",
      "To avoid having to guess which ranges we'll create a graphical representation of the probability density.\n",
      "\n",
      "\n"
     ]
    },
    {
     "cell_type": "code",
     "collapsed": false,
     "input": [
      "def cumulativegraph(datax,vec1,high,k=5,weightf=gaussian):\n",
      "    t1=arange(0.0,high,0.1)\n",
      "    cprob=array([probguess(datax,vec1,0,v,k,weightf) for v in t1])\n",
      "    plot(t1,cprob)\n",
      "    show( )\n"
     ],
     "language": "python",
     "metadata": {},
     "outputs": [],
     "prompt_number": 111
    },
    {
     "cell_type": "code",
     "collapsed": false,
     "input": [
      "cumulativegraph(data3,(1,1),120)\n"
     ],
     "language": "python",
     "metadata": {},
     "outputs": [
      {
       "metadata": {},
       "output_type": "display_data",
       "png": "[encoded data removed]",
       "text": [
        "<matplotlib.figure.Figure at 0x7f5cf06c0210>"
       ]
      }
     ],
     "prompt_number": 113
    },
    {
     "cell_type": "markdown",
     "metadata": {},
     "source": [
      "As expected, the cumulative probability starts at 0 and increases all the way to 1. What\u2019s interesting about the graph is the way it increases. The probability value stays at 0 until around \\$65 and then climbs fairly quickly, settling at 0.63 until the price hits \\$90, where it jumps again.\n",
      "\n",
      "But we can also try to graph the actual probabilities for different price points. This is trickier because the probability that any item will be an exact price is very low. Graphing this would show 0 almost everywhere with spikes at the predicted prices.\n",
      "\n"
     ]
    },
    {
     "cell_type": "code",
     "collapsed": false,
     "input": [
      "def probabilitygraph(data,vec1,high,k=5,weightf=gaussian,ss=5.0):\n",
      "    # Make a range for the prices\n",
      "    t1=arange(0.0,high,0.1)\n",
      "    \n",
      "    # Get the probabilities for the entire range\n",
      "    probs=[probguess(data,vec1,v,v+0.1,k,weightf) for v in t1]\n",
      "    \n",
      "    # Smooth them by adding the gaussian of the nearby probabilites\n",
      "    smoothed=[]\n",
      "    for i in range(len(probs)):\n",
      "        sv=0.0\n",
      "        for j in range(0,len(probs)):\n",
      "            dist=abs(i-j)*0.1\n",
      "            weight=gaussian(dist,sigma=ss)\n",
      "            sv+=weight*probs[j]\n",
      "        smoothed.append(sv)\n",
      "    smoothed=array(smoothed)\n",
      "    \n",
      "    plot(t1,smoothed)\n",
      "    show( )\n"
     ],
     "language": "python",
     "metadata": {},
     "outputs": [],
     "prompt_number": 114
    },
    {
     "cell_type": "code",
     "collapsed": false,
     "input": [
      "probabilitygraph(data,(1,1),120)\n"
     ],
     "language": "python",
     "metadata": {},
     "outputs": [
      {
       "metadata": {},
       "output_type": "display_data",
       "png": "[encoded data removed]",
       "text": [
        "<matplotlib.figure.Figure at 0x7f5cf05c07d0>"
       ]
      }
     ],
     "prompt_number": 116
    },
    {
     "cell_type": "markdown",
     "metadata": {},
     "source": [
      "This graph makes it even easier to see where the results are grouped together. \n"
     ]
    },
    {
     "cell_type": "code",
     "collapsed": false,
     "input": [
      "print \"Price 99.0 & 20.0 :\" ,wineprice(99.0,20.0)\n",
      "cumulativegraph(data3,(99,20),120)\n",
      "probabilitygraph(data,(99,20),120)"
     ],
     "language": "python",
     "metadata": {},
     "outputs": [
      {
       "output_type": "stream",
       "stream": "stdout",
       "text": [
        "Price 99.0 & 20.0 : 106.071428571\n"
       ]
      },
      {
       "metadata": {},
       "output_type": "display_data",
       "png": "[encoded data removed]",
       "text": [
        "<matplotlib.figure.Figure at 0x7f5cf02c06d0>"
       ]
      },
      {
       "metadata": {},
       "output_type": "display_data",
       "png": "[encoded data removed]",
       "text": [
        "<matplotlib.figure.Figure at 0x7f5cf063eb10>"
       ]
      }
     ],
     "prompt_number": 118
    },
    {
     "cell_type": "code",
     "collapsed": false,
     "input": [
      "print \"Price 58.0 & 3.0 :\" ,wineprice(58.0,3.0)\n",
      "cumulativegraph(data3,(58.0,3.0),120)\n",
      "probabilitygraph(data,(58.0,3.0),120)"
     ],
     "language": "python",
     "metadata": {},
     "outputs": [
      {
       "output_type": "stream",
       "stream": "stdout",
       "text": [
        "Price 58.0 & 3.0 : 72.5\n"
       ]
      },
      {
       "metadata": {},
       "output_type": "display_data",
       "png": "[encoded data removed]",
       "text": [
        "<matplotlib.figure.Figure at 0x7f5cf048b450>"
       ]
      },
      {
       "metadata": {},
       "output_type": "display_data",
       "png": "[encoded data removed]",
       "text": [
        "<matplotlib.figure.Figure at 0x7f5cf048b810>"
       ]
      }
     ],
     "prompt_number": 119
    },
    {
     "cell_type": "code",
     "collapsed": false,
     "input": [],
     "language": "python",
     "metadata": {},
     "outputs": []
    }
   ],
   "metadata": {}
  }
 ]
}